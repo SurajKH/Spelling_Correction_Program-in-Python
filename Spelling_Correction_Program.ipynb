{
 "cells": [
  {
   "cell_type": "code",
   "execution_count": 4,
   "metadata": {},
   "outputs": [
    {
     "name": "stdout",
     "output_type": "stream",
     "text": [
      "Collecting textblob\n",
      "  Downloading textblob-0.15.3-py2.py3-none-any.whl (636 kB)\n",
      "Requirement already satisfied: nltk>=3.1 in c:\\users\\dell\\anaconda3\\lib\\site-packages (from textblob) (3.4.5)\n",
      "Requirement already satisfied: six in c:\\users\\dell\\anaconda3\\lib\\site-packages (from nltk>=3.1->textblob) (1.14.0)\n",
      "Installing collected packages: textblob\n",
      "Successfully installed textblob-0.15.3\n"
     ]
    }
   ],
   "source": [
    "#1.spelling correction program is designed in such a way that spellings which are wrongly interpreted gets corrected using text blob\n",
    "#library in python\n",
    "\n",
    "!pip install textblob"
   ]
  },
  {
   "cell_type": "code",
   "execution_count": 18,
   "metadata": {},
   "outputs": [],
   "source": [
    "from textblob import TextBlob"
   ]
  },
  {
   "cell_type": "code",
   "execution_count": 19,
   "metadata": {},
   "outputs": [],
   "source": [
    "#2.we have defined a list of data words with needs to further processed\n",
    "data_words=[\"flud\",\"prgram\",\"spellng\",\"Langage\",\"Processng\"]\n",
    "#initially the list is empty for the corrected data_words\n",
    "corrected_data_words=[]"
   ]
  },
  {
   "cell_type": "code",
   "execution_count": 20,
   "metadata": {},
   "outputs": [],
   "source": [
    "#3.we iterate through each of the items within the data_words list\n",
    "for item in data_words:\n",
    "    corrected_data_words.append(TextBlob(item))"
   ]
  },
  {
   "cell_type": "code",
   "execution_count": 21,
   "metadata": {},
   "outputs": [
    {
     "name": "stdout",
     "output_type": "stream",
     "text": [
      "The list of Wrong Words are as followed:\n",
      "['flud', 'prgram', 'spellng', 'Langage', 'Processng']\n",
      "\n",
      "The list of Corrected Words are as followed:\n",
      "fluid\n",
      "program\n",
      "spelling\n",
      "Language\n",
      "Processing\n"
     ]
    }
   ],
   "source": [
    "#4.now we consider the list of the wrong and the corrected data words for the further comparision purpose\n",
    "print(\"The list of Wrong Words are as followed:\")\n",
    "print(data_words)\n",
    "print(\"\\nThe list of Corrected Words are as followed:\")\n",
    "for item in corrected_data_words:\n",
    "    print(item.correct())"
   ]
  },
  {
   "cell_type": "code",
   "execution_count": null,
   "metadata": {},
   "outputs": [],
   "source": []
  }
 ],
 "metadata": {
  "kernelspec": {
   "display_name": "Python 3",
   "language": "python",
   "name": "python3"
  },
  "language_info": {
   "codemirror_mode": {
    "name": "ipython",
    "version": 3
   },
   "file_extension": ".py",
   "mimetype": "text/x-python",
   "name": "python",
   "nbconvert_exporter": "python",
   "pygments_lexer": "ipython3",
   "version": "3.7.6"
  }
 },
 "nbformat": 4,
 "nbformat_minor": 4
}
